{
 "cells": [
  {
   "cell_type": "code",
   "execution_count": 7,
   "metadata": {
    "collapsed": true,
    "ExecuteTime": {
     "start_time": "2023-07-04T14:54:27.620118Z",
     "end_time": "2023-07-04T14:54:27.635293Z"
    }
   },
   "outputs": [],
   "source": [
    "# Import packages\n",
    "\n",
    "import pandas as pd\n",
    "import numpy as np\n",
    "import glob\n",
    "import os\n",
    "import sys\n",
    "import re"
   ]
  },
  {
   "cell_type": "code",
   "execution_count": 5,
   "outputs": [
    {
     "name": "stdout",
     "output_type": "stream",
     "text": [
      "Current working directory: /Users/beatrizdelgadocorrales/Desktop/PhD-BE_Microbiome/vcontact\n"
     ]
    }
   ],
   "source": [
    "# Set directory\n",
    "\n",
    "os.chdir('/Users/beatrizdelgadocorrales/Desktop/PhD-BE_Microbiome/vcontact')\n",
    "print(\"Current working directory: {0}\".format(os.getcwd()))"
   ],
   "metadata": {
    "collapsed": false
   }
  },
  {
   "cell_type": "code",
   "execution_count": 6,
   "outputs": [
    {
     "data": {
      "text/plain": "                            Genome         Order       Family           Genus  \\\n3902    Yersinia~phage~vB_YenP_AP5  Caudovirales  Podoviridae  Teseptimavirus   \n3903  Yersinia~phage~vB_YenP_ISAO8  Caudovirales  Podoviridae      Unassigned   \n3904          Yersinia~virus~L413C  Caudovirales   Myoviridae         P2virus   \n3905         uncultured~crAssphage    Unassigned   Unassigned      Unassigned   \n3906      uncultured~phage~WW-nAnB    Unassigned   Inoviridae      Unassigned   \n\n          preVC  VC Status        VC  VC Size  Quality  Adjusted P-value  \\\n3902  preVC_369  Clustered  VC_369_0     60.0   0.9834               1.0   \n3903  preVC_281  Clustered  VC_281_0      5.0   0.5189               1.0   \n3904  preVC_283  Clustered  VC_283_0     29.0   0.8458               1.0   \n3905        NaN  Singleton       NaN      NaN      NaN               NaN   \n3906  preVC_476  Clustered  VC_476_0      3.0   1.0000               0.0   \n\n      VC Avg Distance  Topology Confidence Score  Genus Confidence Score  \\\n3902         6.121005                     0.9834                     1.0   \n3903         4.244754                     0.5189                     1.0   \n3904         6.068343                     0.8458                     1.0   \n3905              NaN                        NaN                     NaN   \n3906         0.000000                     0.0000                     1.0   \n\n      VC Orders  VC Families  VC Genera    source  \n3902        1.0          1.0        4.0  database  \n3903        1.0          1.0        0.0  database  \n3904        1.0          1.0        2.0  database  \n3905        NaN          NaN        NaN  database  \n3906        0.0          1.0        0.0  database  ",
      "text/html": "<div>\n<style scoped>\n    .dataframe tbody tr th:only-of-type {\n        vertical-align: middle;\n    }\n\n    .dataframe tbody tr th {\n        vertical-align: top;\n    }\n\n    .dataframe thead th {\n        text-align: right;\n    }\n</style>\n<table border=\"1\" class=\"dataframe\">\n  <thead>\n    <tr style=\"text-align: right;\">\n      <th></th>\n      <th>Genome</th>\n      <th>Order</th>\n      <th>Family</th>\n      <th>Genus</th>\n      <th>preVC</th>\n      <th>VC Status</th>\n      <th>VC</th>\n      <th>VC Size</th>\n      <th>Quality</th>\n      <th>Adjusted P-value</th>\n      <th>VC Avg Distance</th>\n      <th>Topology Confidence Score</th>\n      <th>Genus Confidence Score</th>\n      <th>VC Orders</th>\n      <th>VC Families</th>\n      <th>VC Genera</th>\n      <th>source</th>\n    </tr>\n  </thead>\n  <tbody>\n    <tr>\n      <th>3902</th>\n      <td>Yersinia~phage~vB_YenP_AP5</td>\n      <td>Caudovirales</td>\n      <td>Podoviridae</td>\n      <td>Teseptimavirus</td>\n      <td>preVC_369</td>\n      <td>Clustered</td>\n      <td>VC_369_0</td>\n      <td>60.0</td>\n      <td>0.9834</td>\n      <td>1.0</td>\n      <td>6.121005</td>\n      <td>0.9834</td>\n      <td>1.0</td>\n      <td>1.0</td>\n      <td>1.0</td>\n      <td>4.0</td>\n      <td>database</td>\n    </tr>\n    <tr>\n      <th>3903</th>\n      <td>Yersinia~phage~vB_YenP_ISAO8</td>\n      <td>Caudovirales</td>\n      <td>Podoviridae</td>\n      <td>Unassigned</td>\n      <td>preVC_281</td>\n      <td>Clustered</td>\n      <td>VC_281_0</td>\n      <td>5.0</td>\n      <td>0.5189</td>\n      <td>1.0</td>\n      <td>4.244754</td>\n      <td>0.5189</td>\n      <td>1.0</td>\n      <td>1.0</td>\n      <td>1.0</td>\n      <td>0.0</td>\n      <td>database</td>\n    </tr>\n    <tr>\n      <th>3904</th>\n      <td>Yersinia~virus~L413C</td>\n      <td>Caudovirales</td>\n      <td>Myoviridae</td>\n      <td>P2virus</td>\n      <td>preVC_283</td>\n      <td>Clustered</td>\n      <td>VC_283_0</td>\n      <td>29.0</td>\n      <td>0.8458</td>\n      <td>1.0</td>\n      <td>6.068343</td>\n      <td>0.8458</td>\n      <td>1.0</td>\n      <td>1.0</td>\n      <td>1.0</td>\n      <td>2.0</td>\n      <td>database</td>\n    </tr>\n    <tr>\n      <th>3905</th>\n      <td>uncultured~crAssphage</td>\n      <td>Unassigned</td>\n      <td>Unassigned</td>\n      <td>Unassigned</td>\n      <td>NaN</td>\n      <td>Singleton</td>\n      <td>NaN</td>\n      <td>NaN</td>\n      <td>NaN</td>\n      <td>NaN</td>\n      <td>NaN</td>\n      <td>NaN</td>\n      <td>NaN</td>\n      <td>NaN</td>\n      <td>NaN</td>\n      <td>NaN</td>\n      <td>database</td>\n    </tr>\n    <tr>\n      <th>3906</th>\n      <td>uncultured~phage~WW-nAnB</td>\n      <td>Unassigned</td>\n      <td>Inoviridae</td>\n      <td>Unassigned</td>\n      <td>preVC_476</td>\n      <td>Clustered</td>\n      <td>VC_476_0</td>\n      <td>3.0</td>\n      <td>1.0000</td>\n      <td>0.0</td>\n      <td>0.000000</td>\n      <td>0.0000</td>\n      <td>1.0</td>\n      <td>0.0</td>\n      <td>1.0</td>\n      <td>0.0</td>\n      <td>database</td>\n    </tr>\n  </tbody>\n</table>\n</div>"
     },
     "execution_count": 6,
     "metadata": {},
     "output_type": "execute_result"
    }
   ],
   "source": [
    "# Import vcontact csv output file\n",
    "\n",
    "vcontact = pd.read_csv(\"./genome_by_genome_overview.new.csv\", sep=\",\")\n",
    "vcontact.tail()"
   ],
   "metadata": {
    "collapsed": false
   }
  },
  {
   "cell_type": "code",
   "execution_count": 7,
   "outputs": [
    {
     "data": {
      "text/plain": "                            Genome         Order       Family           Genus  \\\n0             25_S1_k127_100057_17    Unassigned   Unassigned      Unassigned   \n1            25_S1_k127_100251_357    Unassigned   Unassigned      Unassigned   \n2              25_S1_k127_10065_61    Unassigned   Unassigned      Unassigned   \n3            25_S1_k127_101160_303    Unassigned   Unassigned      Unassigned   \n4            25_S1_k127_101989_434    Unassigned   Unassigned      Unassigned   \n...                            ...           ...          ...             ...   \n3902    Yersinia~phage~vB_YenP_AP5  Caudovirales  Podoviridae  Teseptimavirus   \n3903  Yersinia~phage~vB_YenP_ISAO8  Caudovirales  Podoviridae      Unassigned   \n3904          Yersinia~virus~L413C  Caudovirales   Myoviridae         P2virus   \n3905         uncultured~crAssphage    Unassigned   Unassigned      Unassigned   \n3906      uncultured~phage~WW-nAnB    Unassigned   Inoviridae      Unassigned   \n\n          preVC  VC Status        VC  VC Size  Quality  Adjusted P-value  \\\n0           NaN  Singleton       NaN      NaN      NaN               NaN   \n1           NaN  Singleton       NaN      NaN      NaN               NaN   \n2           NaN  Singleton       NaN      NaN      NaN               NaN   \n3           NaN  Singleton       NaN      NaN      NaN               NaN   \n4           NaN  Singleton       NaN      NaN      NaN               NaN   \n...         ...        ...       ...      ...      ...               ...   \n3902  preVC_369  Clustered  VC_369_0     60.0   0.9834               1.0   \n3903  preVC_281  Clustered  VC_281_0      5.0   0.5189               1.0   \n3904  preVC_283  Clustered  VC_283_0     29.0   0.8458               1.0   \n3905        NaN  Singleton       NaN      NaN      NaN               NaN   \n3906  preVC_476  Clustered  VC_476_0      3.0   1.0000               0.0   \n\n      VC Avg Distance  Topology Confidence Score  Genus Confidence Score  \\\n0                 NaN                        NaN                     NaN   \n1                 NaN                        NaN                     NaN   \n2                 NaN                        NaN                     NaN   \n3                 NaN                        NaN                     NaN   \n4                 NaN                        NaN                     NaN   \n...               ...                        ...                     ...   \n3902         6.121005                     0.9834                     1.0   \n3903         4.244754                     0.5189                     1.0   \n3904         6.068343                     0.8458                     1.0   \n3905              NaN                        NaN                     NaN   \n3906         0.000000                     0.0000                     1.0   \n\n      VC Orders  VC Families  VC Genera    source  \n0           NaN          NaN        NaN      user  \n1           NaN          NaN        NaN      user  \n2           NaN          NaN        NaN      user  \n3           NaN          NaN        NaN      user  \n4           NaN          NaN        NaN      user  \n...         ...          ...        ...       ...  \n3902        1.0          1.0        4.0  database  \n3903        1.0          1.0        0.0  database  \n3904        1.0          1.0        2.0  database  \n3905        NaN          NaN        NaN  database  \n3906        0.0          1.0        0.0  database  \n\n[3907 rows x 17 columns]",
      "text/html": "<div>\n<style scoped>\n    .dataframe tbody tr th:only-of-type {\n        vertical-align: middle;\n    }\n\n    .dataframe tbody tr th {\n        vertical-align: top;\n    }\n\n    .dataframe thead th {\n        text-align: right;\n    }\n</style>\n<table border=\"1\" class=\"dataframe\">\n  <thead>\n    <tr style=\"text-align: right;\">\n      <th></th>\n      <th>Genome</th>\n      <th>Order</th>\n      <th>Family</th>\n      <th>Genus</th>\n      <th>preVC</th>\n      <th>VC Status</th>\n      <th>VC</th>\n      <th>VC Size</th>\n      <th>Quality</th>\n      <th>Adjusted P-value</th>\n      <th>VC Avg Distance</th>\n      <th>Topology Confidence Score</th>\n      <th>Genus Confidence Score</th>\n      <th>VC Orders</th>\n      <th>VC Families</th>\n      <th>VC Genera</th>\n      <th>source</th>\n    </tr>\n  </thead>\n  <tbody>\n    <tr>\n      <th>0</th>\n      <td>25_S1_k127_100057_17</td>\n      <td>Unassigned</td>\n      <td>Unassigned</td>\n      <td>Unassigned</td>\n      <td>NaN</td>\n      <td>Singleton</td>\n      <td>NaN</td>\n      <td>NaN</td>\n      <td>NaN</td>\n      <td>NaN</td>\n      <td>NaN</td>\n      <td>NaN</td>\n      <td>NaN</td>\n      <td>NaN</td>\n      <td>NaN</td>\n      <td>NaN</td>\n      <td>user</td>\n    </tr>\n    <tr>\n      <th>1</th>\n      <td>25_S1_k127_100251_357</td>\n      <td>Unassigned</td>\n      <td>Unassigned</td>\n      <td>Unassigned</td>\n      <td>NaN</td>\n      <td>Singleton</td>\n      <td>NaN</td>\n      <td>NaN</td>\n      <td>NaN</td>\n      <td>NaN</td>\n      <td>NaN</td>\n      <td>NaN</td>\n      <td>NaN</td>\n      <td>NaN</td>\n      <td>NaN</td>\n      <td>NaN</td>\n      <td>user</td>\n    </tr>\n    <tr>\n      <th>2</th>\n      <td>25_S1_k127_10065_61</td>\n      <td>Unassigned</td>\n      <td>Unassigned</td>\n      <td>Unassigned</td>\n      <td>NaN</td>\n      <td>Singleton</td>\n      <td>NaN</td>\n      <td>NaN</td>\n      <td>NaN</td>\n      <td>NaN</td>\n      <td>NaN</td>\n      <td>NaN</td>\n      <td>NaN</td>\n      <td>NaN</td>\n      <td>NaN</td>\n      <td>NaN</td>\n      <td>user</td>\n    </tr>\n    <tr>\n      <th>3</th>\n      <td>25_S1_k127_101160_303</td>\n      <td>Unassigned</td>\n      <td>Unassigned</td>\n      <td>Unassigned</td>\n      <td>NaN</td>\n      <td>Singleton</td>\n      <td>NaN</td>\n      <td>NaN</td>\n      <td>NaN</td>\n      <td>NaN</td>\n      <td>NaN</td>\n      <td>NaN</td>\n      <td>NaN</td>\n      <td>NaN</td>\n      <td>NaN</td>\n      <td>NaN</td>\n      <td>user</td>\n    </tr>\n    <tr>\n      <th>4</th>\n      <td>25_S1_k127_101989_434</td>\n      <td>Unassigned</td>\n      <td>Unassigned</td>\n      <td>Unassigned</td>\n      <td>NaN</td>\n      <td>Singleton</td>\n      <td>NaN</td>\n      <td>NaN</td>\n      <td>NaN</td>\n      <td>NaN</td>\n      <td>NaN</td>\n      <td>NaN</td>\n      <td>NaN</td>\n      <td>NaN</td>\n      <td>NaN</td>\n      <td>NaN</td>\n      <td>user</td>\n    </tr>\n    <tr>\n      <th>...</th>\n      <td>...</td>\n      <td>...</td>\n      <td>...</td>\n      <td>...</td>\n      <td>...</td>\n      <td>...</td>\n      <td>...</td>\n      <td>...</td>\n      <td>...</td>\n      <td>...</td>\n      <td>...</td>\n      <td>...</td>\n      <td>...</td>\n      <td>...</td>\n      <td>...</td>\n      <td>...</td>\n      <td>...</td>\n    </tr>\n    <tr>\n      <th>3902</th>\n      <td>Yersinia~phage~vB_YenP_AP5</td>\n      <td>Caudovirales</td>\n      <td>Podoviridae</td>\n      <td>Teseptimavirus</td>\n      <td>preVC_369</td>\n      <td>Clustered</td>\n      <td>VC_369_0</td>\n      <td>60.0</td>\n      <td>0.9834</td>\n      <td>1.0</td>\n      <td>6.121005</td>\n      <td>0.9834</td>\n      <td>1.0</td>\n      <td>1.0</td>\n      <td>1.0</td>\n      <td>4.0</td>\n      <td>database</td>\n    </tr>\n    <tr>\n      <th>3903</th>\n      <td>Yersinia~phage~vB_YenP_ISAO8</td>\n      <td>Caudovirales</td>\n      <td>Podoviridae</td>\n      <td>Unassigned</td>\n      <td>preVC_281</td>\n      <td>Clustered</td>\n      <td>VC_281_0</td>\n      <td>5.0</td>\n      <td>0.5189</td>\n      <td>1.0</td>\n      <td>4.244754</td>\n      <td>0.5189</td>\n      <td>1.0</td>\n      <td>1.0</td>\n      <td>1.0</td>\n      <td>0.0</td>\n      <td>database</td>\n    </tr>\n    <tr>\n      <th>3904</th>\n      <td>Yersinia~virus~L413C</td>\n      <td>Caudovirales</td>\n      <td>Myoviridae</td>\n      <td>P2virus</td>\n      <td>preVC_283</td>\n      <td>Clustered</td>\n      <td>VC_283_0</td>\n      <td>29.0</td>\n      <td>0.8458</td>\n      <td>1.0</td>\n      <td>6.068343</td>\n      <td>0.8458</td>\n      <td>1.0</td>\n      <td>1.0</td>\n      <td>1.0</td>\n      <td>2.0</td>\n      <td>database</td>\n    </tr>\n    <tr>\n      <th>3905</th>\n      <td>uncultured~crAssphage</td>\n      <td>Unassigned</td>\n      <td>Unassigned</td>\n      <td>Unassigned</td>\n      <td>NaN</td>\n      <td>Singleton</td>\n      <td>NaN</td>\n      <td>NaN</td>\n      <td>NaN</td>\n      <td>NaN</td>\n      <td>NaN</td>\n      <td>NaN</td>\n      <td>NaN</td>\n      <td>NaN</td>\n      <td>NaN</td>\n      <td>NaN</td>\n      <td>database</td>\n    </tr>\n    <tr>\n      <th>3906</th>\n      <td>uncultured~phage~WW-nAnB</td>\n      <td>Unassigned</td>\n      <td>Inoviridae</td>\n      <td>Unassigned</td>\n      <td>preVC_476</td>\n      <td>Clustered</td>\n      <td>VC_476_0</td>\n      <td>3.0</td>\n      <td>1.0000</td>\n      <td>0.0</td>\n      <td>0.000000</td>\n      <td>0.0000</td>\n      <td>1.0</td>\n      <td>0.0</td>\n      <td>1.0</td>\n      <td>0.0</td>\n      <td>database</td>\n    </tr>\n  </tbody>\n</table>\n<p>3907 rows × 17 columns</p>\n</div>"
     },
     "execution_count": 7,
     "metadata": {},
     "output_type": "execute_result"
    }
   ],
   "source": [
    "vcontact"
   ],
   "metadata": {
    "collapsed": false
   }
  },
  {
   "cell_type": "code",
   "execution_count": 8,
   "outputs": [
    {
     "data": {
      "text/plain": "                   Genome       Order      Family       Genus     preVC  \\\n9   25_S1_k127_103778_360  Unassigned  Unassigned  Unassigned   preVC_0   \n15    25_S1_k127_105031_8  Unassigned  Unassigned  Unassigned   preVC_2   \n31  25_S1_k127_111791_124  Unassigned  Unassigned  Unassigned  preVC_14   \n34   25_S1_k127_112418_44  Unassigned  Unassigned  Unassigned  preVC_16   \n46  25_S1_k127_116905_319  Unassigned  Unassigned  Unassigned  preVC_23   \n\n    VC Status       VC  VC Size  Quality  Adjusted P-value  VC Avg Distance  \\\n9   Clustered   VC_0_0      2.0   1.0000          1.000000         1.414214   \n15  Clustered   VC_2_0      3.0   0.7036          0.806762         2.098678   \n31  Clustered  VC_14_0      2.0   1.0000          1.000000         1.000000   \n34  Clustered  VC_16_0      2.0   0.1063          0.946904         0.000000   \n46  Clustered  VC_23_0      2.0   1.0000          1.000000         1.000000   \n\n    Topology Confidence Score  Genus Confidence Score  VC Orders  VC Families  \\\n9                      1.0000                     1.0        0.0          0.0   \n15                     0.5677                     1.0        0.0          0.0   \n31                     1.0000                     1.0        0.0          0.0   \n34                     0.1006                     1.0        0.0          0.0   \n46                     1.0000                     1.0        0.0          0.0   \n\n    VC Genera source  \n9         0.0   user  \n15        0.0   user  \n31        0.0   user  \n34        0.0   user  \n46        0.0   user  ",
      "text/html": "<div>\n<style scoped>\n    .dataframe tbody tr th:only-of-type {\n        vertical-align: middle;\n    }\n\n    .dataframe tbody tr th {\n        vertical-align: top;\n    }\n\n    .dataframe thead th {\n        text-align: right;\n    }\n</style>\n<table border=\"1\" class=\"dataframe\">\n  <thead>\n    <tr style=\"text-align: right;\">\n      <th></th>\n      <th>Genome</th>\n      <th>Order</th>\n      <th>Family</th>\n      <th>Genus</th>\n      <th>preVC</th>\n      <th>VC Status</th>\n      <th>VC</th>\n      <th>VC Size</th>\n      <th>Quality</th>\n      <th>Adjusted P-value</th>\n      <th>VC Avg Distance</th>\n      <th>Topology Confidence Score</th>\n      <th>Genus Confidence Score</th>\n      <th>VC Orders</th>\n      <th>VC Families</th>\n      <th>VC Genera</th>\n      <th>source</th>\n    </tr>\n  </thead>\n  <tbody>\n    <tr>\n      <th>9</th>\n      <td>25_S1_k127_103778_360</td>\n      <td>Unassigned</td>\n      <td>Unassigned</td>\n      <td>Unassigned</td>\n      <td>preVC_0</td>\n      <td>Clustered</td>\n      <td>VC_0_0</td>\n      <td>2.0</td>\n      <td>1.0000</td>\n      <td>1.000000</td>\n      <td>1.414214</td>\n      <td>1.0000</td>\n      <td>1.0</td>\n      <td>0.0</td>\n      <td>0.0</td>\n      <td>0.0</td>\n      <td>user</td>\n    </tr>\n    <tr>\n      <th>15</th>\n      <td>25_S1_k127_105031_8</td>\n      <td>Unassigned</td>\n      <td>Unassigned</td>\n      <td>Unassigned</td>\n      <td>preVC_2</td>\n      <td>Clustered</td>\n      <td>VC_2_0</td>\n      <td>3.0</td>\n      <td>0.7036</td>\n      <td>0.806762</td>\n      <td>2.098678</td>\n      <td>0.5677</td>\n      <td>1.0</td>\n      <td>0.0</td>\n      <td>0.0</td>\n      <td>0.0</td>\n      <td>user</td>\n    </tr>\n    <tr>\n      <th>31</th>\n      <td>25_S1_k127_111791_124</td>\n      <td>Unassigned</td>\n      <td>Unassigned</td>\n      <td>Unassigned</td>\n      <td>preVC_14</td>\n      <td>Clustered</td>\n      <td>VC_14_0</td>\n      <td>2.0</td>\n      <td>1.0000</td>\n      <td>1.000000</td>\n      <td>1.000000</td>\n      <td>1.0000</td>\n      <td>1.0</td>\n      <td>0.0</td>\n      <td>0.0</td>\n      <td>0.0</td>\n      <td>user</td>\n    </tr>\n    <tr>\n      <th>34</th>\n      <td>25_S1_k127_112418_44</td>\n      <td>Unassigned</td>\n      <td>Unassigned</td>\n      <td>Unassigned</td>\n      <td>preVC_16</td>\n      <td>Clustered</td>\n      <td>VC_16_0</td>\n      <td>2.0</td>\n      <td>0.1063</td>\n      <td>0.946904</td>\n      <td>0.000000</td>\n      <td>0.1006</td>\n      <td>1.0</td>\n      <td>0.0</td>\n      <td>0.0</td>\n      <td>0.0</td>\n      <td>user</td>\n    </tr>\n    <tr>\n      <th>46</th>\n      <td>25_S1_k127_116905_319</td>\n      <td>Unassigned</td>\n      <td>Unassigned</td>\n      <td>Unassigned</td>\n      <td>preVC_23</td>\n      <td>Clustered</td>\n      <td>VC_23_0</td>\n      <td>2.0</td>\n      <td>1.0000</td>\n      <td>1.000000</td>\n      <td>1.000000</td>\n      <td>1.0000</td>\n      <td>1.0</td>\n      <td>0.0</td>\n      <td>0.0</td>\n      <td>0.0</td>\n      <td>user</td>\n    </tr>\n  </tbody>\n</table>\n</div>"
     },
     "execution_count": 8,
     "metadata": {},
     "output_type": "execute_result"
    }
   ],
   "source": [
    "tbfilt = vcontact[vcontact['source']=='user']\n",
    "tbfilt = tbfilt[tbfilt['VC Status']=='Clustered']\n",
    "tbfilt.head()"
   ],
   "metadata": {
    "collapsed": false
   }
  },
  {
   "cell_type": "code",
   "execution_count": 9,
   "outputs": [
    {
     "data": {
      "text/plain": "           VC  VC Size\n9      VC_0_0      2.0\n119    VC_0_0      2.0\n643  VC_101_0      7.0\n780  VC_101_0      7.0\n784  VC_101_0      7.0",
      "text/html": "<div>\n<style scoped>\n    .dataframe tbody tr th:only-of-type {\n        vertical-align: middle;\n    }\n\n    .dataframe tbody tr th {\n        vertical-align: top;\n    }\n\n    .dataframe thead th {\n        text-align: right;\n    }\n</style>\n<table border=\"1\" class=\"dataframe\">\n  <thead>\n    <tr style=\"text-align: right;\">\n      <th></th>\n      <th>VC</th>\n      <th>VC Size</th>\n    </tr>\n  </thead>\n  <tbody>\n    <tr>\n      <th>9</th>\n      <td>VC_0_0</td>\n      <td>2.0</td>\n    </tr>\n    <tr>\n      <th>119</th>\n      <td>VC_0_0</td>\n      <td>2.0</td>\n    </tr>\n    <tr>\n      <th>643</th>\n      <td>VC_101_0</td>\n      <td>7.0</td>\n    </tr>\n    <tr>\n      <th>780</th>\n      <td>VC_101_0</td>\n      <td>7.0</td>\n    </tr>\n    <tr>\n      <th>784</th>\n      <td>VC_101_0</td>\n      <td>7.0</td>\n    </tr>\n  </tbody>\n</table>\n</div>"
     },
     "execution_count": 9,
     "metadata": {},
     "output_type": "execute_result"
    }
   ],
   "source": [
    "tbfilt.sort_values(by=['VC', 'VC Size'], ascending=[True, True], inplace=True)\n",
    "tbfilt2 = tbfilt[['VC', 'VC Size']]\n",
    "tbfilt2.head()"
   ],
   "metadata": {
    "collapsed": false
   }
  },
  {
   "cell_type": "code",
   "execution_count": 10,
   "outputs": [
    {
     "name": "stdout",
     "output_type": "stream",
     "text": [
      "{'VC_0_0': 2.0, 'VC_101_0': 7.0, 'VC_103_0': 2.0, 'VC_105_0': 2.0, 'VC_107_0': 2.0, 'VC_108_0': 2.0, 'VC_10_0': 3.0, 'VC_116_0': 2.0, 'VC_121_0': 2.0, 'VC_122_0': 2.0, 'VC_123_0': 2.0, 'VC_124_0': 2.0, 'VC_126_0': 2.0, 'VC_127_0': 2.0, 'VC_128_0': 2.0, 'VC_129_0': 2.0, 'VC_130_0': 2.0, 'VC_131_0': 2.0, 'VC_132_0': 2.0, 'VC_133_0': 2.0, 'VC_134_0': 2.0, 'VC_135_0': 3.0, 'VC_136_0': 3.0, 'VC_137_0': 2.0, 'VC_138_0': 2.0, 'VC_140_0': 2.0, 'VC_142_0': 2.0, 'VC_143_0': 2.0, 'VC_144_0': 2.0, 'VC_145_0': 2.0, 'VC_146_0': 3.0, 'VC_148_0': 3.0, 'VC_14_0': 2.0, 'VC_150_0': 2.0, 'VC_151_0': 2.0, 'VC_152_0': 2.0, 'VC_153_0': 2.0, 'VC_154_0': 2.0, 'VC_155_0': 3.0, 'VC_156_0': 2.0, 'VC_158_0': 2.0, 'VC_159_0': 2.0, 'VC_160_0': 3.0, 'VC_161_0': 2.0, 'VC_162_0': 2.0, 'VC_163_0': 2.0, 'VC_164_0': 3.0, 'VC_165_0': 2.0, 'VC_166_0': 2.0, 'VC_167_0': 2.0, 'VC_169_0': 3.0, 'VC_16_0': 2.0, 'VC_173_0': 3.0, 'VC_175_0': 2.0, 'VC_176_0': 4.0, 'VC_177_0': 2.0, 'VC_178_0': 2.0, 'VC_179_0': 2.0, 'VC_180_0': 2.0, 'VC_181_0': 2.0, 'VC_182_0': 3.0, 'VC_183_0': 2.0, 'VC_187_0': 3.0, 'VC_199_0': 2.0, 'VC_19_0': 2.0, 'VC_1_0': 6.0, 'VC_201_0': 4.0, 'VC_202_0': 3.0, 'VC_209_0': 3.0, 'VC_211_0': 2.0, 'VC_212_0': 2.0, 'VC_213_0': 2.0, 'VC_218_0': 2.0, 'VC_219_0': 3.0, 'VC_21_0': 6.0, 'VC_233_0': 2.0, 'VC_23_0': 2.0, 'VC_24_0': 6.0, 'VC_269_0': 2.0, 'VC_285_0': 2.0, 'VC_29_0': 3.0, 'VC_2_0': 3.0, 'VC_309_0': 6.0, 'VC_30_0': 2.0, 'VC_317_0': 2.0, 'VC_31_0': 3.0, 'VC_335_0': 18.0, 'VC_351_0': 6.0, 'VC_35_0': 3.0, 'VC_36_0': 5.0, 'VC_37_0': 3.0, 'VC_38_0': 2.0, 'VC_392_0': 3.0, 'VC_39_0': 4.0, 'VC_40_0': 3.0, 'VC_42_0': 2.0, 'VC_446_0': 2.0, 'VC_447_1': 2.0, 'VC_448_0': 2.0, 'VC_44_0': 2.0, 'VC_45_0': 3.0, 'VC_4_0': 2.0, 'VC_51_0': 2.0, 'VC_53_0': 3.0, 'VC_54_0': 2.0, 'VC_55_0': 2.0, 'VC_56_0': 2.0, 'VC_57_0': 3.0, 'VC_58_0': 4.0, 'VC_59_0': 2.0, 'VC_5_0': 3.0, 'VC_60_0': 2.0, 'VC_61_0': 2.0, 'VC_62_0': 2.0, 'VC_63_0': 8.0, 'VC_64_0': 2.0, 'VC_65_0': 3.0, 'VC_66_0': 2.0, 'VC_67_0': 2.0, 'VC_68_0': 2.0, 'VC_6_0': 2.0, 'VC_70_0': 3.0, 'VC_71_0': 4.0, 'VC_72_0': 3.0, 'VC_73_0': 2.0, 'VC_77_0': 2.0, 'VC_7_0': 4.0, 'VC_82_0': 3.0, 'VC_83_0': 2.0, 'VC_84_0': 2.0, 'VC_85_0': 2.0, 'VC_87_0': 3.0, 'VC_91_0': 4.0, 'VC_94_0': 2.0, 'VC_97_0': 2.0}\n"
     ]
    }
   ],
   "source": [
    "tbdict = tbfilt2.set_index('VC').to_dict()['VC Size']\n",
    "print(tbdict)"
   ],
   "metadata": {
    "collapsed": false
   }
  },
  {
   "cell_type": "code",
   "execution_count": 11,
   "outputs": [
    {
     "name": "stdout",
     "output_type": "stream",
     "text": [
      "{'VC_0_0': 2, 'VC_101_0': 7, 'VC_103_0': 2, 'VC_105_0': 2, 'VC_107_0': 2, 'VC_108_0': 2, 'VC_10_0': 3, 'VC_116_0': 2, 'VC_121_0': 2, 'VC_122_0': 2, 'VC_123_0': 2, 'VC_124_0': 2, 'VC_126_0': 2, 'VC_127_0': 2, 'VC_128_0': 2, 'VC_129_0': 2, 'VC_130_0': 2, 'VC_131_0': 2, 'VC_132_0': 2, 'VC_133_0': 2, 'VC_134_0': 2, 'VC_135_0': 3, 'VC_136_0': 3, 'VC_137_0': 2, 'VC_138_0': 2, 'VC_140_0': 2, 'VC_142_0': 2, 'VC_143_0': 2, 'VC_144_0': 2, 'VC_145_0': 2, 'VC_146_0': 3, 'VC_148_0': 3, 'VC_14_0': 2, 'VC_150_0': 2, 'VC_151_0': 2, 'VC_152_0': 2, 'VC_153_0': 2, 'VC_154_0': 2, 'VC_155_0': 3, 'VC_156_0': 2, 'VC_158_0': 2, 'VC_159_0': 2, 'VC_160_0': 3, 'VC_161_0': 2, 'VC_162_0': 2, 'VC_163_0': 2, 'VC_164_0': 3, 'VC_165_0': 2, 'VC_166_0': 2, 'VC_167_0': 1, 'VC_169_0': 3, 'VC_16_0': 2, 'VC_173_0': 3, 'VC_175_0': 2, 'VC_176_0': 4, 'VC_177_0': 2, 'VC_178_0': 2, 'VC_179_0': 2, 'VC_180_0': 2, 'VC_181_0': 2, 'VC_182_0': 3, 'VC_183_0': 2, 'VC_187_0': 3, 'VC_199_0': 2, 'VC_19_0': 2, 'VC_1_0': 6, 'VC_201_0': 1, 'VC_202_0': 1, 'VC_209_0': 3, 'VC_211_0': 2, 'VC_212_0': 2, 'VC_213_0': 2, 'VC_218_0': 2, 'VC_219_0': 3, 'VC_21_0': 6, 'VC_233_0': 2, 'VC_23_0': 2, 'VC_24_0': 6, 'VC_269_0': 1, 'VC_285_0': 1, 'VC_29_0': 3, 'VC_2_0': 3, 'VC_309_0': 1, 'VC_30_0': 2, 'VC_317_0': 1, 'VC_31_0': 3, 'VC_335_0': 1, 'VC_351_0': 1, 'VC_35_0': 1, 'VC_36_0': 5, 'VC_37_0': 3, 'VC_38_0': 2, 'VC_392_0': 1, 'VC_39_0': 4, 'VC_40_0': 3, 'VC_42_0': 2, 'VC_446_0': 2, 'VC_447_1': 1, 'VC_448_0': 1, 'VC_44_0': 2, 'VC_45_0': 3, 'VC_4_0': 2, 'VC_51_0': 2, 'VC_53_0': 3, 'VC_54_0': 2, 'VC_55_0': 2, 'VC_56_0': 2, 'VC_57_0': 3, 'VC_58_0': 4, 'VC_59_0': 2, 'VC_5_0': 3, 'VC_60_0': 2, 'VC_61_0': 2, 'VC_62_0': 2, 'VC_63_0': 3, 'VC_64_0': 2, 'VC_65_0': 3, 'VC_66_0': 2, 'VC_67_0': 1, 'VC_68_0': 2, 'VC_6_0': 2, 'VC_70_0': 3, 'VC_71_0': 4, 'VC_72_0': 3, 'VC_73_0': 2, 'VC_77_0': 2, 'VC_7_0': 4, 'VC_82_0': 3, 'VC_83_0': 2, 'VC_84_0': 2, 'VC_85_0': 2, 'VC_87_0': 3, 'VC_91_0': 4, 'VC_94_0': 2, 'VC_97_0': 2}\n"
     ]
    }
   ],
   "source": [
    "numdict = tbfilt.groupby('VC').count().to_dict(orient='dict')['VC Size']\n",
    "print(numdict)"
   ],
   "metadata": {
    "collapsed": false
   }
  },
  {
   "cell_type": "code",
   "execution_count": 12,
   "outputs": [
    {
     "name": "stdout",
     "output_type": "stream",
     "text": [
      "['VC_167_0', 'VC_201_0', 'VC_202_0', 'VC_269_0', 'VC_285_0', 'VC_309_0', 'VC_317_0', 'VC_335_0', 'VC_351_0', 'VC_35_0', 'VC_392_0', 'VC_447_1', 'VC_448_0', 'VC_63_0', 'VC_67_0']\n"
     ]
    }
   ],
   "source": [
    "# Compare dictionary values and keep only the ones with bigger values in one of them\n",
    "\n",
    "vclist = []\n",
    "for key in tbdict.keys():\n",
    "    if tbdict[key] > numdict[key]:\n",
    "        vclist.append(key)\n",
    "print(vclist)"
   ],
   "metadata": {
    "collapsed": false
   }
  },
  {
   "cell_type": "code",
   "execution_count": 29,
   "outputs": [
    {
     "data": {
      "text/plain": "                           Genome         Order        Family  \\\n185         25_S1_k127_188045_228    Unassigned    Unassigned   \n186          25_S1_k127_188769_34    Unassigned    Unassigned   \n224         25_S1_k127_206336_117    Unassigned    Unassigned   \n349          25_S1_k127_54528_330    Unassigned    Unassigned   \n715        46_S66_k127_227121_673    Unassigned    Unassigned   \n...                           ...           ...           ...   \n3395       Salmonella~virus~HK620  Caudovirales   Podoviridae   \n3396         Salmonella~virus~P22  Caudovirales   Podoviridae   \n3402       Salmonella~virus~ST64T  Caudovirales   Podoviridae   \n3445           Shigella~virus~Sf6  Caudovirales   Podoviridae   \n3683  Streptomyces~phage~phiSASD1  Caudovirales  Siphoviridae   \n\n                Genus      preVC  VC Status        VC  VC Size  Quality  \\\n185        Unassigned   preVC_35  Clustered   VC_35_0      3.0   0.2793   \n186        Unassigned   preVC_63  Clustered   VC_63_0      8.0   0.9268   \n224        Unassigned   preVC_67  Clustered   VC_67_0      2.0   0.1010   \n349        Unassigned   preVC_63  Clustered   VC_63_0      8.0   0.9268   \n715        Unassigned  preVC_167  Clustered  VC_167_0      2.0   0.0401   \n...               ...        ...        ...       ...      ...      ...   \n3395         P22virus  preVC_335  Clustered  VC_335_0     18.0   0.5639   \n3396         P22virus  preVC_335  Clustered  VC_335_0     18.0   0.5639   \n3402         P22virus  preVC_335  Clustered  VC_335_0     18.0   0.5639   \n3445         P22virus  preVC_335  Clustered  VC_335_0     18.0   0.5639   \n3683  Lomovskayavirus   preVC_67  Clustered   VC_67_0      2.0   0.1010   \n\n      Adjusted P-value  VC Avg Distance  Topology Confidence Score  \\\n185           0.946745         6.633744                     0.2645   \n186           0.999860         3.914488                     0.9267   \n224           0.641600         5.000000                     0.0648   \n349           0.999860         3.914488                     0.9267   \n715           0.887530         5.916080                     0.0356   \n...                ...              ...                        ...   \n3395          1.000000         7.831681                     0.5639   \n3396          1.000000         7.831681                     0.5639   \n3402          1.000000         7.831681                     0.5639   \n3445          1.000000         7.831681                     0.5639   \n3683          0.641600         5.000000                     0.0648   \n\n      Genus Confidence Score  VC Orders  VC Families  VC Genera    source  \n185                   1.0000        1.0          1.0        1.0      user  \n186                   1.0000        1.0          1.0        1.0      user  \n224                   1.0000        1.0          1.0        1.0      user  \n349                   1.0000        1.0          1.0        1.0      user  \n715                   1.0000        1.0          1.0        0.0      user  \n...                      ...        ...          ...        ...       ...  \n3395                  0.8889        1.0          1.0        2.0  database  \n3396                  0.8889        1.0          1.0        2.0  database  \n3402                  0.8889        1.0          1.0        2.0  database  \n3445                  0.8889        1.0          1.0        2.0  database  \n3683                  1.0000        1.0          1.0        1.0  database  \n\n[65 rows x 17 columns]",
      "text/html": "<div>\n<style scoped>\n    .dataframe tbody tr th:only-of-type {\n        vertical-align: middle;\n    }\n\n    .dataframe tbody tr th {\n        vertical-align: top;\n    }\n\n    .dataframe thead th {\n        text-align: right;\n    }\n</style>\n<table border=\"1\" class=\"dataframe\">\n  <thead>\n    <tr style=\"text-align: right;\">\n      <th></th>\n      <th>Genome</th>\n      <th>Order</th>\n      <th>Family</th>\n      <th>Genus</th>\n      <th>preVC</th>\n      <th>VC Status</th>\n      <th>VC</th>\n      <th>VC Size</th>\n      <th>Quality</th>\n      <th>Adjusted P-value</th>\n      <th>VC Avg Distance</th>\n      <th>Topology Confidence Score</th>\n      <th>Genus Confidence Score</th>\n      <th>VC Orders</th>\n      <th>VC Families</th>\n      <th>VC Genera</th>\n      <th>source</th>\n    </tr>\n  </thead>\n  <tbody>\n    <tr>\n      <th>185</th>\n      <td>25_S1_k127_188045_228</td>\n      <td>Unassigned</td>\n      <td>Unassigned</td>\n      <td>Unassigned</td>\n      <td>preVC_35</td>\n      <td>Clustered</td>\n      <td>VC_35_0</td>\n      <td>3.0</td>\n      <td>0.2793</td>\n      <td>0.946745</td>\n      <td>6.633744</td>\n      <td>0.2645</td>\n      <td>1.0000</td>\n      <td>1.0</td>\n      <td>1.0</td>\n      <td>1.0</td>\n      <td>user</td>\n    </tr>\n    <tr>\n      <th>186</th>\n      <td>25_S1_k127_188769_34</td>\n      <td>Unassigned</td>\n      <td>Unassigned</td>\n      <td>Unassigned</td>\n      <td>preVC_63</td>\n      <td>Clustered</td>\n      <td>VC_63_0</td>\n      <td>8.0</td>\n      <td>0.9268</td>\n      <td>0.999860</td>\n      <td>3.914488</td>\n      <td>0.9267</td>\n      <td>1.0000</td>\n      <td>1.0</td>\n      <td>1.0</td>\n      <td>1.0</td>\n      <td>user</td>\n    </tr>\n    <tr>\n      <th>224</th>\n      <td>25_S1_k127_206336_117</td>\n      <td>Unassigned</td>\n      <td>Unassigned</td>\n      <td>Unassigned</td>\n      <td>preVC_67</td>\n      <td>Clustered</td>\n      <td>VC_67_0</td>\n      <td>2.0</td>\n      <td>0.1010</td>\n      <td>0.641600</td>\n      <td>5.000000</td>\n      <td>0.0648</td>\n      <td>1.0000</td>\n      <td>1.0</td>\n      <td>1.0</td>\n      <td>1.0</td>\n      <td>user</td>\n    </tr>\n    <tr>\n      <th>349</th>\n      <td>25_S1_k127_54528_330</td>\n      <td>Unassigned</td>\n      <td>Unassigned</td>\n      <td>Unassigned</td>\n      <td>preVC_63</td>\n      <td>Clustered</td>\n      <td>VC_63_0</td>\n      <td>8.0</td>\n      <td>0.9268</td>\n      <td>0.999860</td>\n      <td>3.914488</td>\n      <td>0.9267</td>\n      <td>1.0000</td>\n      <td>1.0</td>\n      <td>1.0</td>\n      <td>1.0</td>\n      <td>user</td>\n    </tr>\n    <tr>\n      <th>715</th>\n      <td>46_S66_k127_227121_673</td>\n      <td>Unassigned</td>\n      <td>Unassigned</td>\n      <td>Unassigned</td>\n      <td>preVC_167</td>\n      <td>Clustered</td>\n      <td>VC_167_0</td>\n      <td>2.0</td>\n      <td>0.0401</td>\n      <td>0.887530</td>\n      <td>5.916080</td>\n      <td>0.0356</td>\n      <td>1.0000</td>\n      <td>1.0</td>\n      <td>1.0</td>\n      <td>0.0</td>\n      <td>user</td>\n    </tr>\n    <tr>\n      <th>...</th>\n      <td>...</td>\n      <td>...</td>\n      <td>...</td>\n      <td>...</td>\n      <td>...</td>\n      <td>...</td>\n      <td>...</td>\n      <td>...</td>\n      <td>...</td>\n      <td>...</td>\n      <td>...</td>\n      <td>...</td>\n      <td>...</td>\n      <td>...</td>\n      <td>...</td>\n      <td>...</td>\n      <td>...</td>\n    </tr>\n    <tr>\n      <th>3395</th>\n      <td>Salmonella~virus~HK620</td>\n      <td>Caudovirales</td>\n      <td>Podoviridae</td>\n      <td>P22virus</td>\n      <td>preVC_335</td>\n      <td>Clustered</td>\n      <td>VC_335_0</td>\n      <td>18.0</td>\n      <td>0.5639</td>\n      <td>1.000000</td>\n      <td>7.831681</td>\n      <td>0.5639</td>\n      <td>0.8889</td>\n      <td>1.0</td>\n      <td>1.0</td>\n      <td>2.0</td>\n      <td>database</td>\n    </tr>\n    <tr>\n      <th>3396</th>\n      <td>Salmonella~virus~P22</td>\n      <td>Caudovirales</td>\n      <td>Podoviridae</td>\n      <td>P22virus</td>\n      <td>preVC_335</td>\n      <td>Clustered</td>\n      <td>VC_335_0</td>\n      <td>18.0</td>\n      <td>0.5639</td>\n      <td>1.000000</td>\n      <td>7.831681</td>\n      <td>0.5639</td>\n      <td>0.8889</td>\n      <td>1.0</td>\n      <td>1.0</td>\n      <td>2.0</td>\n      <td>database</td>\n    </tr>\n    <tr>\n      <th>3402</th>\n      <td>Salmonella~virus~ST64T</td>\n      <td>Caudovirales</td>\n      <td>Podoviridae</td>\n      <td>P22virus</td>\n      <td>preVC_335</td>\n      <td>Clustered</td>\n      <td>VC_335_0</td>\n      <td>18.0</td>\n      <td>0.5639</td>\n      <td>1.000000</td>\n      <td>7.831681</td>\n      <td>0.5639</td>\n      <td>0.8889</td>\n      <td>1.0</td>\n      <td>1.0</td>\n      <td>2.0</td>\n      <td>database</td>\n    </tr>\n    <tr>\n      <th>3445</th>\n      <td>Shigella~virus~Sf6</td>\n      <td>Caudovirales</td>\n      <td>Podoviridae</td>\n      <td>P22virus</td>\n      <td>preVC_335</td>\n      <td>Clustered</td>\n      <td>VC_335_0</td>\n      <td>18.0</td>\n      <td>0.5639</td>\n      <td>1.000000</td>\n      <td>7.831681</td>\n      <td>0.5639</td>\n      <td>0.8889</td>\n      <td>1.0</td>\n      <td>1.0</td>\n      <td>2.0</td>\n      <td>database</td>\n    </tr>\n    <tr>\n      <th>3683</th>\n      <td>Streptomyces~phage~phiSASD1</td>\n      <td>Caudovirales</td>\n      <td>Siphoviridae</td>\n      <td>Lomovskayavirus</td>\n      <td>preVC_67</td>\n      <td>Clustered</td>\n      <td>VC_67_0</td>\n      <td>2.0</td>\n      <td>0.1010</td>\n      <td>0.641600</td>\n      <td>5.000000</td>\n      <td>0.0648</td>\n      <td>1.0000</td>\n      <td>1.0</td>\n      <td>1.0</td>\n      <td>1.0</td>\n      <td>database</td>\n    </tr>\n  </tbody>\n</table>\n<p>65 rows × 17 columns</p>\n</div>"
     },
     "execution_count": 29,
     "metadata": {},
     "output_type": "execute_result"
    }
   ],
   "source": [
    "# Filter original table by the values stored in the vclist\n",
    "\n",
    "finaldf = vcontact[vcontact['VC'].isin(vclist)]\n",
    "finaldf"
   ],
   "metadata": {
    "collapsed": false
   }
  },
  {
   "cell_type": "code",
   "execution_count": 14,
   "outputs": [
    {
     "data": {
      "text/plain": "                                 Genome         Order        Family  \\\n715              46_S66_k127_227121_673    Unassigned    Unassigned   \n1357  Alteromonas~phage~vB_AmaP_AD45-P1  Caudovirales   Podoviridae   \n3089              Pseudomonas~phage~MD8  Caudovirales  Siphoviridae   \n2869           NuPos_S94_k127_6801_1273    Unassigned    Unassigned   \n3058              Pseudomonas~phage~F10  Caudovirales  Siphoviridae   \n...                                 ...           ...           ...   \n349                25_S1_k127_54528_330    Unassigned    Unassigned   \n186                25_S1_k127_188769_34    Unassigned    Unassigned   \n3277             Rhodococcus~phage~RRH1  Caudovirales  Siphoviridae   \n224               25_S1_k127_206336_117    Unassigned    Unassigned   \n3683        Streptomyces~phage~phiSASD1  Caudovirales  Siphoviridae   \n\n                Genus      preVC  VC Status        VC  VC Size  Quality  \\\n715        Unassigned  preVC_167  Clustered  VC_167_0      2.0   0.0401   \n1357       Unassigned  preVC_167  Clustered  VC_167_0      2.0   0.0401   \n3089       Unassigned  preVC_201  Clustered  VC_201_0      4.0   0.8727   \n2869       Unassigned  preVC_201  Clustered  VC_201_0      4.0   0.8727   \n3058       Unassigned  preVC_201  Clustered  VC_201_0      4.0   0.8727   \n...               ...        ...        ...       ...      ...      ...   \n349        Unassigned   preVC_63  Clustered   VC_63_0      8.0   0.9268   \n186        Unassigned   preVC_63  Clustered   VC_63_0      8.0   0.9268   \n3277       Unassigned   preVC_63  Clustered   VC_63_0      8.0   0.9268   \n224        Unassigned   preVC_67  Clustered   VC_67_0      2.0   0.1010   \n3683  Lomovskayavirus   preVC_67  Clustered   VC_67_0      2.0   0.1010   \n\n      Adjusted P-value  VC Avg Distance  Topology Confidence Score  \\\n715           0.887530         5.916080                     0.0356   \n1357          0.887530         5.916080                     0.0356   \n3089          0.999797         6.968301                     0.8725   \n2869          0.999797         6.968301                     0.8725   \n3058          0.999797         6.968301                     0.8725   \n...                ...              ...                        ...   \n349           0.999860         3.914488                     0.9267   \n186           0.999860         3.914488                     0.9267   \n3277          0.999860         3.914488                     0.9267   \n224           0.641600         5.000000                     0.0648   \n3683          0.641600         5.000000                     0.0648   \n\n      Genus Confidence Score  VC Orders  VC Families  VC Genera    source  \n715                      1.0        1.0          1.0        0.0      user  \n1357                     1.0        1.0          1.0        0.0  database  \n3089                     1.0        1.0          1.0        0.0  database  \n2869                     1.0        1.0          1.0        0.0      user  \n3058                     1.0        1.0          1.0        0.0  database  \n...                      ...        ...          ...        ...       ...  \n349                      1.0        1.0          1.0        1.0      user  \n186                      1.0        1.0          1.0        1.0      user  \n3277                     1.0        1.0          1.0        1.0  database  \n224                      1.0        1.0          1.0        1.0      user  \n3683                     1.0        1.0          1.0        1.0  database  \n\n[65 rows x 17 columns]",
      "text/html": "<div>\n<style scoped>\n    .dataframe tbody tr th:only-of-type {\n        vertical-align: middle;\n    }\n\n    .dataframe tbody tr th {\n        vertical-align: top;\n    }\n\n    .dataframe thead th {\n        text-align: right;\n    }\n</style>\n<table border=\"1\" class=\"dataframe\">\n  <thead>\n    <tr style=\"text-align: right;\">\n      <th></th>\n      <th>Genome</th>\n      <th>Order</th>\n      <th>Family</th>\n      <th>Genus</th>\n      <th>preVC</th>\n      <th>VC Status</th>\n      <th>VC</th>\n      <th>VC Size</th>\n      <th>Quality</th>\n      <th>Adjusted P-value</th>\n      <th>VC Avg Distance</th>\n      <th>Topology Confidence Score</th>\n      <th>Genus Confidence Score</th>\n      <th>VC Orders</th>\n      <th>VC Families</th>\n      <th>VC Genera</th>\n      <th>source</th>\n    </tr>\n  </thead>\n  <tbody>\n    <tr>\n      <th>715</th>\n      <td>46_S66_k127_227121_673</td>\n      <td>Unassigned</td>\n      <td>Unassigned</td>\n      <td>Unassigned</td>\n      <td>preVC_167</td>\n      <td>Clustered</td>\n      <td>VC_167_0</td>\n      <td>2.0</td>\n      <td>0.0401</td>\n      <td>0.887530</td>\n      <td>5.916080</td>\n      <td>0.0356</td>\n      <td>1.0</td>\n      <td>1.0</td>\n      <td>1.0</td>\n      <td>0.0</td>\n      <td>user</td>\n    </tr>\n    <tr>\n      <th>1357</th>\n      <td>Alteromonas~phage~vB_AmaP_AD45-P1</td>\n      <td>Caudovirales</td>\n      <td>Podoviridae</td>\n      <td>Unassigned</td>\n      <td>preVC_167</td>\n      <td>Clustered</td>\n      <td>VC_167_0</td>\n      <td>2.0</td>\n      <td>0.0401</td>\n      <td>0.887530</td>\n      <td>5.916080</td>\n      <td>0.0356</td>\n      <td>1.0</td>\n      <td>1.0</td>\n      <td>1.0</td>\n      <td>0.0</td>\n      <td>database</td>\n    </tr>\n    <tr>\n      <th>3089</th>\n      <td>Pseudomonas~phage~MD8</td>\n      <td>Caudovirales</td>\n      <td>Siphoviridae</td>\n      <td>Unassigned</td>\n      <td>preVC_201</td>\n      <td>Clustered</td>\n      <td>VC_201_0</td>\n      <td>4.0</td>\n      <td>0.8727</td>\n      <td>0.999797</td>\n      <td>6.968301</td>\n      <td>0.8725</td>\n      <td>1.0</td>\n      <td>1.0</td>\n      <td>1.0</td>\n      <td>0.0</td>\n      <td>database</td>\n    </tr>\n    <tr>\n      <th>2869</th>\n      <td>NuPos_S94_k127_6801_1273</td>\n      <td>Unassigned</td>\n      <td>Unassigned</td>\n      <td>Unassigned</td>\n      <td>preVC_201</td>\n      <td>Clustered</td>\n      <td>VC_201_0</td>\n      <td>4.0</td>\n      <td>0.8727</td>\n      <td>0.999797</td>\n      <td>6.968301</td>\n      <td>0.8725</td>\n      <td>1.0</td>\n      <td>1.0</td>\n      <td>1.0</td>\n      <td>0.0</td>\n      <td>user</td>\n    </tr>\n    <tr>\n      <th>3058</th>\n      <td>Pseudomonas~phage~F10</td>\n      <td>Caudovirales</td>\n      <td>Siphoviridae</td>\n      <td>Unassigned</td>\n      <td>preVC_201</td>\n      <td>Clustered</td>\n      <td>VC_201_0</td>\n      <td>4.0</td>\n      <td>0.8727</td>\n      <td>0.999797</td>\n      <td>6.968301</td>\n      <td>0.8725</td>\n      <td>1.0</td>\n      <td>1.0</td>\n      <td>1.0</td>\n      <td>0.0</td>\n      <td>database</td>\n    </tr>\n    <tr>\n      <th>...</th>\n      <td>...</td>\n      <td>...</td>\n      <td>...</td>\n      <td>...</td>\n      <td>...</td>\n      <td>...</td>\n      <td>...</td>\n      <td>...</td>\n      <td>...</td>\n      <td>...</td>\n      <td>...</td>\n      <td>...</td>\n      <td>...</td>\n      <td>...</td>\n      <td>...</td>\n      <td>...</td>\n      <td>...</td>\n    </tr>\n    <tr>\n      <th>349</th>\n      <td>25_S1_k127_54528_330</td>\n      <td>Unassigned</td>\n      <td>Unassigned</td>\n      <td>Unassigned</td>\n      <td>preVC_63</td>\n      <td>Clustered</td>\n      <td>VC_63_0</td>\n      <td>8.0</td>\n      <td>0.9268</td>\n      <td>0.999860</td>\n      <td>3.914488</td>\n      <td>0.9267</td>\n      <td>1.0</td>\n      <td>1.0</td>\n      <td>1.0</td>\n      <td>1.0</td>\n      <td>user</td>\n    </tr>\n    <tr>\n      <th>186</th>\n      <td>25_S1_k127_188769_34</td>\n      <td>Unassigned</td>\n      <td>Unassigned</td>\n      <td>Unassigned</td>\n      <td>preVC_63</td>\n      <td>Clustered</td>\n      <td>VC_63_0</td>\n      <td>8.0</td>\n      <td>0.9268</td>\n      <td>0.999860</td>\n      <td>3.914488</td>\n      <td>0.9267</td>\n      <td>1.0</td>\n      <td>1.0</td>\n      <td>1.0</td>\n      <td>1.0</td>\n      <td>user</td>\n    </tr>\n    <tr>\n      <th>3277</th>\n      <td>Rhodococcus~phage~RRH1</td>\n      <td>Caudovirales</td>\n      <td>Siphoviridae</td>\n      <td>Unassigned</td>\n      <td>preVC_63</td>\n      <td>Clustered</td>\n      <td>VC_63_0</td>\n      <td>8.0</td>\n      <td>0.9268</td>\n      <td>0.999860</td>\n      <td>3.914488</td>\n      <td>0.9267</td>\n      <td>1.0</td>\n      <td>1.0</td>\n      <td>1.0</td>\n      <td>1.0</td>\n      <td>database</td>\n    </tr>\n    <tr>\n      <th>224</th>\n      <td>25_S1_k127_206336_117</td>\n      <td>Unassigned</td>\n      <td>Unassigned</td>\n      <td>Unassigned</td>\n      <td>preVC_67</td>\n      <td>Clustered</td>\n      <td>VC_67_0</td>\n      <td>2.0</td>\n      <td>0.1010</td>\n      <td>0.641600</td>\n      <td>5.000000</td>\n      <td>0.0648</td>\n      <td>1.0</td>\n      <td>1.0</td>\n      <td>1.0</td>\n      <td>1.0</td>\n      <td>user</td>\n    </tr>\n    <tr>\n      <th>3683</th>\n      <td>Streptomyces~phage~phiSASD1</td>\n      <td>Caudovirales</td>\n      <td>Siphoviridae</td>\n      <td>Lomovskayavirus</td>\n      <td>preVC_67</td>\n      <td>Clustered</td>\n      <td>VC_67_0</td>\n      <td>2.0</td>\n      <td>0.1010</td>\n      <td>0.641600</td>\n      <td>5.000000</td>\n      <td>0.0648</td>\n      <td>1.0</td>\n      <td>1.0</td>\n      <td>1.0</td>\n      <td>1.0</td>\n      <td>database</td>\n    </tr>\n  </tbody>\n</table>\n<p>65 rows × 17 columns</p>\n</div>"
     },
     "execution_count": 14,
     "metadata": {},
     "output_type": "execute_result"
    }
   ],
   "source": [
    "finaldf.sort_values('VC')"
   ],
   "metadata": {
    "collapsed": false
   }
  },
  {
   "cell_type": "code",
   "execution_count": 15,
   "outputs": [
    {
     "name": "stdout",
     "output_type": "stream",
     "text": [
      "{'VC_167_0': 'Podoviridae', 'VC_63_0': 'Siphoviridae', 'VC_317_0': 'Siphoviridae', 'VC_35_0': 'Siphoviridae', 'VC_335_0': 'Podoviridae', 'VC_392_0': 'Siphoviridae', 'VC_309_0': 'Siphoviridae', 'VC_351_0': 'Siphoviridae', 'VC_201_0': 'Siphoviridae', 'VC_269_0': 'Myoviridae', 'VC_202_0': 'Siphoviridae', 'VC_448_0': 'Inoviridae', 'VC_285_0': 'Myoviridae', 'VC_447_1': 'Siphoviridae', 'VC_67_0': 'Siphoviridae'}\n"
     ]
    }
   ],
   "source": [
    "## Change Family name of vOTUs\n",
    "# Store the VC family name first\n",
    "\n",
    "db_df = finaldf[finaldf['source']=='database']\n",
    "dbdict = db_df.set_index('VC').to_dict()['Family']\n",
    "print(dbdict)"
   ],
   "metadata": {
    "collapsed": false
   }
  },
  {
   "cell_type": "code",
   "execution_count": 16,
   "outputs": [
    {
     "name": "stderr",
     "output_type": "stream",
     "text": [
      "/Users/beatrizdelgadocorrales/anaconda3/envs/pycharm/lib/python3.7/site-packages/pandas/core/indexing.py:1676: SettingWithCopyWarning: \n",
      "A value is trying to be set on a copy of a slice from a DataFrame.\n",
      "Try using .loc[row_indexer,col_indexer] = value instead\n",
      "\n",
      "See the caveats in the documentation: https://pandas.pydata.org/pandas-docs/stable/user_guide/indexing.html#returning-a-view-versus-a-copy\n",
      "  self._setitem_single_column(ilocs[0], value, pi)\n"
     ]
    }
   ],
   "source": [
    "# Assign values based on the dictionary we created\n",
    "# Version 1. Transforms the dataframe in place\n",
    "\n",
    "finaldf.loc[finaldf['VC'].map(dbdict).notna(), \"Family\"] = finaldf[\"VC\"].map(dbdict)"
   ],
   "metadata": {
    "collapsed": false
   }
  },
  {
   "cell_type": "code",
   "execution_count": 28,
   "outputs": [
    {
     "data": {
      "text/plain": "                         Genome       Order        Family       Genus  \\\n185       25_S1_k127_188045_228  Unassigned  Siphoviridae  Unassigned   \n186        25_S1_k127_188769_34  Unassigned  Siphoviridae  Unassigned   \n224       25_S1_k127_206336_117  Unassigned  Siphoviridae  Unassigned   \n349        25_S1_k127_54528_330  Unassigned  Siphoviridae  Unassigned   \n715      46_S66_k127_227121_673  Unassigned   Podoviridae  Unassigned   \n922        60_S75_k127_4319_923  Unassigned  Siphoviridae  Unassigned   \n2838  NuPos_S94_k127_11150_1269  Unassigned  Siphoviridae  Unassigned   \n2843  NuPos_S94_k127_12806_1275  Unassigned  Siphoviridae  Unassigned   \n2848  NuPos_S94_k127_14682_1267  Unassigned  Siphoviridae  Unassigned   \n2849  NuPos_S94_k127_17049_1256  Unassigned  Siphoviridae  Unassigned   \n2853   NuPos_S94_k127_2782_1258  Unassigned  Siphoviridae  Unassigned   \n2855   NuPos_S94_k127_3139_1286  Unassigned    Myoviridae  Unassigned   \n2857   NuPos_S94_k127_3519_1285  Unassigned   Podoviridae  Unassigned   \n2862   NuPos_S94_k127_4190_1279  Unassigned    Inoviridae  Unassigned   \n2863    NuPos_S94_k127_445_1274  Unassigned  Siphoviridae  Unassigned   \n2865   NuPos_S94_k127_5570_1284  Unassigned    Myoviridae  Unassigned   \n2869   NuPos_S94_k127_6801_1273  Unassigned  Siphoviridae  Unassigned   \n\n          preVC  VC Status        VC  VC Size  Quality  Adjusted P-value  \\\n185    preVC_35  Clustered   VC_35_0      3.0   0.2793          0.946745   \n186    preVC_63  Clustered   VC_63_0      8.0   0.9268          0.999860   \n224    preVC_67  Clustered   VC_67_0      2.0   0.1010          0.641600   \n349    preVC_63  Clustered   VC_63_0      8.0   0.9268          0.999860   \n715   preVC_167  Clustered  VC_167_0      2.0   0.0401          0.887530   \n922    preVC_63  Clustered   VC_63_0      8.0   0.9268          0.999860   \n2838  preVC_447  Clustered  VC_447_1      2.0   0.3357          0.879217   \n2843  preVC_202  Clustered  VC_202_0      3.0   0.3316          0.998150   \n2848  preVC_309  Clustered  VC_309_0      6.0   0.6711          1.000000   \n2849  preVC_351  Clustered  VC_351_0      6.0   0.3279          1.000000   \n2853  preVC_392  Clustered  VC_392_0      3.0   0.7490          0.991885   \n2855  preVC_269  Clustered  VC_269_0      2.0   0.0127          0.892212   \n2857  preVC_335  Clustered  VC_335_0     18.0   0.5639          1.000000   \n2862  preVC_448  Clustered  VC_448_0      2.0   1.0000          1.000000   \n2863  preVC_317  Clustered  VC_317_0      2.0   0.2458          0.940922   \n2865  preVC_285  Clustered  VC_285_0      2.0   0.3066          0.946753   \n2869  preVC_201  Clustered  VC_201_0      4.0   0.8727          0.999797   \n\n      VC Avg Distance  Topology Confidence Score  Genus Confidence Score  \\\n185          6.633744                     0.2645                  1.0000   \n186          3.914488                     0.9267                  1.0000   \n224          5.000000                     0.0648                  1.0000   \n349          3.914488                     0.9267                  1.0000   \n715          5.916080                     0.0356                  1.0000   \n922          3.914488                     0.9267                  1.0000   \n2838         7.549834                     0.2952                  1.0000   \n2843         7.561084                     0.3310                  1.0000   \n2848         7.471174                     0.6711                  0.9333   \n2849         5.002507                     0.3279                  1.0000   \n2853         7.477051                     0.7430                  1.0000   \n2855         8.660254                     0.0113                  1.0000   \n2857         7.831681                     0.5639                  0.8889   \n2862         1.414214                     1.0000                  1.0000   \n2863         5.477226                     0.2313                  1.0000   \n2865         5.656854                     0.2903                  1.0000   \n2869         6.968301                     0.8725                  1.0000   \n\n      VC Orders  VC Families  VC Genera source  \n185         1.0          1.0        1.0   user  \n186         1.0          1.0        1.0   user  \n224         1.0          1.0        1.0   user  \n349         1.0          1.0        1.0   user  \n715         1.0          1.0        0.0   user  \n922         1.0          1.0        1.0   user  \n2838        1.0          1.0        1.0   user  \n2843        1.0          1.0        1.0   user  \n2848        1.0          1.0        0.0   user  \n2849        1.0          1.0        1.0   user  \n2853        1.0          2.0        0.0   user  \n2855        1.0          1.0        1.0   user  \n2857        1.0          1.0        2.0   user  \n2862        0.0          1.0        0.0   user  \n2863        1.0          1.0        0.0   user  \n2865        1.0          1.0        1.0   user  \n2869        1.0          1.0        0.0   user  ",
      "text/html": "<div>\n<style scoped>\n    .dataframe tbody tr th:only-of-type {\n        vertical-align: middle;\n    }\n\n    .dataframe tbody tr th {\n        vertical-align: top;\n    }\n\n    .dataframe thead th {\n        text-align: right;\n    }\n</style>\n<table border=\"1\" class=\"dataframe\">\n  <thead>\n    <tr style=\"text-align: right;\">\n      <th></th>\n      <th>Genome</th>\n      <th>Order</th>\n      <th>Family</th>\n      <th>Genus</th>\n      <th>preVC</th>\n      <th>VC Status</th>\n      <th>VC</th>\n      <th>VC Size</th>\n      <th>Quality</th>\n      <th>Adjusted P-value</th>\n      <th>VC Avg Distance</th>\n      <th>Topology Confidence Score</th>\n      <th>Genus Confidence Score</th>\n      <th>VC Orders</th>\n      <th>VC Families</th>\n      <th>VC Genera</th>\n      <th>source</th>\n    </tr>\n  </thead>\n  <tbody>\n    <tr>\n      <th>185</th>\n      <td>25_S1_k127_188045_228</td>\n      <td>Unassigned</td>\n      <td>Siphoviridae</td>\n      <td>Unassigned</td>\n      <td>preVC_35</td>\n      <td>Clustered</td>\n      <td>VC_35_0</td>\n      <td>3.0</td>\n      <td>0.2793</td>\n      <td>0.946745</td>\n      <td>6.633744</td>\n      <td>0.2645</td>\n      <td>1.0000</td>\n      <td>1.0</td>\n      <td>1.0</td>\n      <td>1.0</td>\n      <td>user</td>\n    </tr>\n    <tr>\n      <th>186</th>\n      <td>25_S1_k127_188769_34</td>\n      <td>Unassigned</td>\n      <td>Siphoviridae</td>\n      <td>Unassigned</td>\n      <td>preVC_63</td>\n      <td>Clustered</td>\n      <td>VC_63_0</td>\n      <td>8.0</td>\n      <td>0.9268</td>\n      <td>0.999860</td>\n      <td>3.914488</td>\n      <td>0.9267</td>\n      <td>1.0000</td>\n      <td>1.0</td>\n      <td>1.0</td>\n      <td>1.0</td>\n      <td>user</td>\n    </tr>\n    <tr>\n      <th>224</th>\n      <td>25_S1_k127_206336_117</td>\n      <td>Unassigned</td>\n      <td>Siphoviridae</td>\n      <td>Unassigned</td>\n      <td>preVC_67</td>\n      <td>Clustered</td>\n      <td>VC_67_0</td>\n      <td>2.0</td>\n      <td>0.1010</td>\n      <td>0.641600</td>\n      <td>5.000000</td>\n      <td>0.0648</td>\n      <td>1.0000</td>\n      <td>1.0</td>\n      <td>1.0</td>\n      <td>1.0</td>\n      <td>user</td>\n    </tr>\n    <tr>\n      <th>349</th>\n      <td>25_S1_k127_54528_330</td>\n      <td>Unassigned</td>\n      <td>Siphoviridae</td>\n      <td>Unassigned</td>\n      <td>preVC_63</td>\n      <td>Clustered</td>\n      <td>VC_63_0</td>\n      <td>8.0</td>\n      <td>0.9268</td>\n      <td>0.999860</td>\n      <td>3.914488</td>\n      <td>0.9267</td>\n      <td>1.0000</td>\n      <td>1.0</td>\n      <td>1.0</td>\n      <td>1.0</td>\n      <td>user</td>\n    </tr>\n    <tr>\n      <th>715</th>\n      <td>46_S66_k127_227121_673</td>\n      <td>Unassigned</td>\n      <td>Podoviridae</td>\n      <td>Unassigned</td>\n      <td>preVC_167</td>\n      <td>Clustered</td>\n      <td>VC_167_0</td>\n      <td>2.0</td>\n      <td>0.0401</td>\n      <td>0.887530</td>\n      <td>5.916080</td>\n      <td>0.0356</td>\n      <td>1.0000</td>\n      <td>1.0</td>\n      <td>1.0</td>\n      <td>0.0</td>\n      <td>user</td>\n    </tr>\n    <tr>\n      <th>922</th>\n      <td>60_S75_k127_4319_923</td>\n      <td>Unassigned</td>\n      <td>Siphoviridae</td>\n      <td>Unassigned</td>\n      <td>preVC_63</td>\n      <td>Clustered</td>\n      <td>VC_63_0</td>\n      <td>8.0</td>\n      <td>0.9268</td>\n      <td>0.999860</td>\n      <td>3.914488</td>\n      <td>0.9267</td>\n      <td>1.0000</td>\n      <td>1.0</td>\n      <td>1.0</td>\n      <td>1.0</td>\n      <td>user</td>\n    </tr>\n    <tr>\n      <th>2838</th>\n      <td>NuPos_S94_k127_11150_1269</td>\n      <td>Unassigned</td>\n      <td>Siphoviridae</td>\n      <td>Unassigned</td>\n      <td>preVC_447</td>\n      <td>Clustered</td>\n      <td>VC_447_1</td>\n      <td>2.0</td>\n      <td>0.3357</td>\n      <td>0.879217</td>\n      <td>7.549834</td>\n      <td>0.2952</td>\n      <td>1.0000</td>\n      <td>1.0</td>\n      <td>1.0</td>\n      <td>1.0</td>\n      <td>user</td>\n    </tr>\n    <tr>\n      <th>2843</th>\n      <td>NuPos_S94_k127_12806_1275</td>\n      <td>Unassigned</td>\n      <td>Siphoviridae</td>\n      <td>Unassigned</td>\n      <td>preVC_202</td>\n      <td>Clustered</td>\n      <td>VC_202_0</td>\n      <td>3.0</td>\n      <td>0.3316</td>\n      <td>0.998150</td>\n      <td>7.561084</td>\n      <td>0.3310</td>\n      <td>1.0000</td>\n      <td>1.0</td>\n      <td>1.0</td>\n      <td>1.0</td>\n      <td>user</td>\n    </tr>\n    <tr>\n      <th>2848</th>\n      <td>NuPos_S94_k127_14682_1267</td>\n      <td>Unassigned</td>\n      <td>Siphoviridae</td>\n      <td>Unassigned</td>\n      <td>preVC_309</td>\n      <td>Clustered</td>\n      <td>VC_309_0</td>\n      <td>6.0</td>\n      <td>0.6711</td>\n      <td>1.000000</td>\n      <td>7.471174</td>\n      <td>0.6711</td>\n      <td>0.9333</td>\n      <td>1.0</td>\n      <td>1.0</td>\n      <td>0.0</td>\n      <td>user</td>\n    </tr>\n    <tr>\n      <th>2849</th>\n      <td>NuPos_S94_k127_17049_1256</td>\n      <td>Unassigned</td>\n      <td>Siphoviridae</td>\n      <td>Unassigned</td>\n      <td>preVC_351</td>\n      <td>Clustered</td>\n      <td>VC_351_0</td>\n      <td>6.0</td>\n      <td>0.3279</td>\n      <td>1.000000</td>\n      <td>5.002507</td>\n      <td>0.3279</td>\n      <td>1.0000</td>\n      <td>1.0</td>\n      <td>1.0</td>\n      <td>1.0</td>\n      <td>user</td>\n    </tr>\n    <tr>\n      <th>2853</th>\n      <td>NuPos_S94_k127_2782_1258</td>\n      <td>Unassigned</td>\n      <td>Siphoviridae</td>\n      <td>Unassigned</td>\n      <td>preVC_392</td>\n      <td>Clustered</td>\n      <td>VC_392_0</td>\n      <td>3.0</td>\n      <td>0.7490</td>\n      <td>0.991885</td>\n      <td>7.477051</td>\n      <td>0.7430</td>\n      <td>1.0000</td>\n      <td>1.0</td>\n      <td>2.0</td>\n      <td>0.0</td>\n      <td>user</td>\n    </tr>\n    <tr>\n      <th>2855</th>\n      <td>NuPos_S94_k127_3139_1286</td>\n      <td>Unassigned</td>\n      <td>Myoviridae</td>\n      <td>Unassigned</td>\n      <td>preVC_269</td>\n      <td>Clustered</td>\n      <td>VC_269_0</td>\n      <td>2.0</td>\n      <td>0.0127</td>\n      <td>0.892212</td>\n      <td>8.660254</td>\n      <td>0.0113</td>\n      <td>1.0000</td>\n      <td>1.0</td>\n      <td>1.0</td>\n      <td>1.0</td>\n      <td>user</td>\n    </tr>\n    <tr>\n      <th>2857</th>\n      <td>NuPos_S94_k127_3519_1285</td>\n      <td>Unassigned</td>\n      <td>Podoviridae</td>\n      <td>Unassigned</td>\n      <td>preVC_335</td>\n      <td>Clustered</td>\n      <td>VC_335_0</td>\n      <td>18.0</td>\n      <td>0.5639</td>\n      <td>1.000000</td>\n      <td>7.831681</td>\n      <td>0.5639</td>\n      <td>0.8889</td>\n      <td>1.0</td>\n      <td>1.0</td>\n      <td>2.0</td>\n      <td>user</td>\n    </tr>\n    <tr>\n      <th>2862</th>\n      <td>NuPos_S94_k127_4190_1279</td>\n      <td>Unassigned</td>\n      <td>Inoviridae</td>\n      <td>Unassigned</td>\n      <td>preVC_448</td>\n      <td>Clustered</td>\n      <td>VC_448_0</td>\n      <td>2.0</td>\n      <td>1.0000</td>\n      <td>1.000000</td>\n      <td>1.414214</td>\n      <td>1.0000</td>\n      <td>1.0000</td>\n      <td>0.0</td>\n      <td>1.0</td>\n      <td>0.0</td>\n      <td>user</td>\n    </tr>\n    <tr>\n      <th>2863</th>\n      <td>NuPos_S94_k127_445_1274</td>\n      <td>Unassigned</td>\n      <td>Siphoviridae</td>\n      <td>Unassigned</td>\n      <td>preVC_317</td>\n      <td>Clustered</td>\n      <td>VC_317_0</td>\n      <td>2.0</td>\n      <td>0.2458</td>\n      <td>0.940922</td>\n      <td>5.477226</td>\n      <td>0.2313</td>\n      <td>1.0000</td>\n      <td>1.0</td>\n      <td>1.0</td>\n      <td>0.0</td>\n      <td>user</td>\n    </tr>\n    <tr>\n      <th>2865</th>\n      <td>NuPos_S94_k127_5570_1284</td>\n      <td>Unassigned</td>\n      <td>Myoviridae</td>\n      <td>Unassigned</td>\n      <td>preVC_285</td>\n      <td>Clustered</td>\n      <td>VC_285_0</td>\n      <td>2.0</td>\n      <td>0.3066</td>\n      <td>0.946753</td>\n      <td>5.656854</td>\n      <td>0.2903</td>\n      <td>1.0000</td>\n      <td>1.0</td>\n      <td>1.0</td>\n      <td>1.0</td>\n      <td>user</td>\n    </tr>\n    <tr>\n      <th>2869</th>\n      <td>NuPos_S94_k127_6801_1273</td>\n      <td>Unassigned</td>\n      <td>Siphoviridae</td>\n      <td>Unassigned</td>\n      <td>preVC_201</td>\n      <td>Clustered</td>\n      <td>VC_201_0</td>\n      <td>4.0</td>\n      <td>0.8727</td>\n      <td>0.999797</td>\n      <td>6.968301</td>\n      <td>0.8725</td>\n      <td>1.0000</td>\n      <td>1.0</td>\n      <td>1.0</td>\n      <td>0.0</td>\n      <td>user</td>\n    </tr>\n  </tbody>\n</table>\n</div>"
     },
     "execution_count": 28,
     "metadata": {},
     "output_type": "execute_result"
    }
   ],
   "source": [
    "final_taxa = finaldf[finaldf['source'] == 'user']\n",
    "final_taxa"
   ],
   "metadata": {
    "collapsed": false
   }
  },
  {
   "cell_type": "code",
   "execution_count": 19,
   "outputs": [],
   "source": [
    "# Save final vcontact taxonomy classification\n",
    "# The classified contigs are just in the 'Clustered' VC status\n",
    "\n",
    "final_taxa.to_csv('./vcontact2_taxa.csv', sep = '\\t')"
   ],
   "metadata": {
    "collapsed": false
   }
  },
  {
   "cell_type": "code",
   "execution_count": 20,
   "outputs": [],
   "source": [
    "# Upload classification table from VirusTaxo\n",
    "\n",
    "virustaxo = pd.read_csv('../derep_virus_class.txt', sep='\\t')"
   ],
   "metadata": {
    "collapsed": false
   }
  },
  {
   "cell_type": "code",
   "execution_count": 22,
   "outputs": [],
   "source": [
    "virustaxo = virustaxo.set_index('Id')\n",
    "final_taxa = final_taxa.set_index('Genome')"
   ],
   "metadata": {
    "collapsed": false
   }
  },
  {
   "cell_type": "code",
   "execution_count": 8,
   "outputs": [
    {
     "ename": "NameError",
     "evalue": "name 'virustaxo' is not defined",
     "output_type": "error",
     "traceback": [
      "\u001B[0;31m---------------------------------------------------------------------------\u001B[0m",
      "\u001B[0;31mNameError\u001B[0m                                 Traceback (most recent call last)",
      "\u001B[0;32m<ipython-input-8-aac6fac9725a>\u001B[0m in \u001B[0;36m<module>\u001B[0;34m\u001B[0m\n\u001B[0;32m----> 1\u001B[0;31m \u001B[0mcomb_df\u001B[0m \u001B[0;34m=\u001B[0m \u001B[0mpd\u001B[0m\u001B[0;34m.\u001B[0m\u001B[0mmerge\u001B[0m\u001B[0;34m(\u001B[0m\u001B[0mvirustaxo\u001B[0m\u001B[0;34m,\u001B[0m \u001B[0mfinal_taxa\u001B[0m\u001B[0;34m,\u001B[0m \u001B[0mleft_index\u001B[0m\u001B[0;34m=\u001B[0m\u001B[0;32mTrue\u001B[0m\u001B[0;34m,\u001B[0m \u001B[0mright_index\u001B[0m\u001B[0;34m=\u001B[0m\u001B[0;32mTrue\u001B[0m\u001B[0;34m)\u001B[0m\u001B[0;34m\u001B[0m\u001B[0;34m\u001B[0m\u001B[0m\n\u001B[0m\u001B[1;32m      2\u001B[0m \u001B[0mcomb_df\u001B[0m\u001B[0;34m.\u001B[0m\u001B[0mhead\u001B[0m\u001B[0;34m(\u001B[0m\u001B[0;36m200\u001B[0m\u001B[0;34m)\u001B[0m\u001B[0;34m\u001B[0m\u001B[0;34m\u001B[0m\u001B[0m\n",
      "\u001B[0;31mNameError\u001B[0m: name 'virustaxo' is not defined"
     ]
    }
   ],
   "source": [
    "comb_df = pd.merge(virustaxo, final_taxa, left_index=True, right_index=True)\n",
    "comb_df.head(200)"
   ],
   "metadata": {
    "collapsed": false
   }
  },
  {
   "cell_type": "code",
   "execution_count": 27,
   "outputs": [
    {
     "data": {
      "text/plain": "                           Length             Genus_x        Family\n25_S1_k127_188769_34        16201        Unclassified  Siphoviridae\n25_S1_k127_206336_117        3888  Austintatiousvirus  Siphoviridae\n25_S1_k127_188045_228        3270        Unclassified  Siphoviridae\n25_S1_k127_54528_330        11835           Plotvirus  Siphoviridae\n46_S66_k127_227121_673       4122        Unclassified   Podoviridae\n60_S75_k127_4319_923        12697        Simplexvirus  Siphoviridae\nNuPos_S94_k127_17049_1256   37823      Casadabanvirus  Siphoviridae\nNuPos_S94_k127_2782_1258    46829         Phifelvirus  Siphoviridae\nNuPos_S94_k127_14682_1267   39706      Slepowronvirus  Siphoviridae\nNuPos_S94_k127_11150_1269   55249           Punavirus  Siphoviridae\nNuPos_S94_k127_6801_1273    42119      Casadabanvirus  Siphoviridae\nNuPos_S94_k127_445_1274     37686         Phietavirus  Siphoviridae\nNuPos_S94_k127_12806_1275   53039        Nankokuvirus  Siphoviridae\nNuPos_S94_k127_4190_1279     3984         Phikmvvirus    Inoviridae\nNuPos_S94_k127_5570_1284    24499           Punavirus    Myoviridae\nNuPos_S94_k127_3519_1285    39042      Lederbergvirus   Podoviridae\nNuPos_S94_k127_3139_1286     8943         Lambdavirus    Myoviridae",
      "text/html": "<div>\n<style scoped>\n    .dataframe tbody tr th:only-of-type {\n        vertical-align: middle;\n    }\n\n    .dataframe tbody tr th {\n        vertical-align: top;\n    }\n\n    .dataframe thead th {\n        text-align: right;\n    }\n</style>\n<table border=\"1\" class=\"dataframe\">\n  <thead>\n    <tr style=\"text-align: right;\">\n      <th></th>\n      <th>Length</th>\n      <th>Genus_x</th>\n      <th>Family</th>\n    </tr>\n  </thead>\n  <tbody>\n    <tr>\n      <th>25_S1_k127_188769_34</th>\n      <td>16201</td>\n      <td>Unclassified</td>\n      <td>Siphoviridae</td>\n    </tr>\n    <tr>\n      <th>25_S1_k127_206336_117</th>\n      <td>3888</td>\n      <td>Austintatiousvirus</td>\n      <td>Siphoviridae</td>\n    </tr>\n    <tr>\n      <th>25_S1_k127_188045_228</th>\n      <td>3270</td>\n      <td>Unclassified</td>\n      <td>Siphoviridae</td>\n    </tr>\n    <tr>\n      <th>25_S1_k127_54528_330</th>\n      <td>11835</td>\n      <td>Plotvirus</td>\n      <td>Siphoviridae</td>\n    </tr>\n    <tr>\n      <th>46_S66_k127_227121_673</th>\n      <td>4122</td>\n      <td>Unclassified</td>\n      <td>Podoviridae</td>\n    </tr>\n    <tr>\n      <th>60_S75_k127_4319_923</th>\n      <td>12697</td>\n      <td>Simplexvirus</td>\n      <td>Siphoviridae</td>\n    </tr>\n    <tr>\n      <th>NuPos_S94_k127_17049_1256</th>\n      <td>37823</td>\n      <td>Casadabanvirus</td>\n      <td>Siphoviridae</td>\n    </tr>\n    <tr>\n      <th>NuPos_S94_k127_2782_1258</th>\n      <td>46829</td>\n      <td>Phifelvirus</td>\n      <td>Siphoviridae</td>\n    </tr>\n    <tr>\n      <th>NuPos_S94_k127_14682_1267</th>\n      <td>39706</td>\n      <td>Slepowronvirus</td>\n      <td>Siphoviridae</td>\n    </tr>\n    <tr>\n      <th>NuPos_S94_k127_11150_1269</th>\n      <td>55249</td>\n      <td>Punavirus</td>\n      <td>Siphoviridae</td>\n    </tr>\n    <tr>\n      <th>NuPos_S94_k127_6801_1273</th>\n      <td>42119</td>\n      <td>Casadabanvirus</td>\n      <td>Siphoviridae</td>\n    </tr>\n    <tr>\n      <th>NuPos_S94_k127_445_1274</th>\n      <td>37686</td>\n      <td>Phietavirus</td>\n      <td>Siphoviridae</td>\n    </tr>\n    <tr>\n      <th>NuPos_S94_k127_12806_1275</th>\n      <td>53039</td>\n      <td>Nankokuvirus</td>\n      <td>Siphoviridae</td>\n    </tr>\n    <tr>\n      <th>NuPos_S94_k127_4190_1279</th>\n      <td>3984</td>\n      <td>Phikmvvirus</td>\n      <td>Inoviridae</td>\n    </tr>\n    <tr>\n      <th>NuPos_S94_k127_5570_1284</th>\n      <td>24499</td>\n      <td>Punavirus</td>\n      <td>Myoviridae</td>\n    </tr>\n    <tr>\n      <th>NuPos_S94_k127_3519_1285</th>\n      <td>39042</td>\n      <td>Lederbergvirus</td>\n      <td>Podoviridae</td>\n    </tr>\n    <tr>\n      <th>NuPos_S94_k127_3139_1286</th>\n      <td>8943</td>\n      <td>Lambdavirus</td>\n      <td>Myoviridae</td>\n    </tr>\n  </tbody>\n</table>\n</div>"
     },
     "execution_count": 27,
     "metadata": {},
     "output_type": "execute_result"
    }
   ],
   "source": [
    "# This only shows the contigs defined as \"Clustered\"\n",
    "\n",
    "comb_df2 = comb_df[['Length', 'Genus_x', 'Family']]\n",
    "comb_df2"
   ],
   "metadata": {
    "collapsed": false
   }
  },
  {
   "cell_type": "code",
   "execution_count": null,
   "outputs": [],
   "source": [],
   "metadata": {
    "collapsed": false
   }
  }
 ],
 "metadata": {
  "kernelspec": {
   "display_name": "Python 3",
   "language": "python",
   "name": "python3"
  },
  "language_info": {
   "codemirror_mode": {
    "name": "ipython",
    "version": 2
   },
   "file_extension": ".py",
   "mimetype": "text/x-python",
   "name": "python",
   "nbconvert_exporter": "python",
   "pygments_lexer": "ipython2",
   "version": "2.7.6"
  }
 },
 "nbformat": 4,
 "nbformat_minor": 0
}
